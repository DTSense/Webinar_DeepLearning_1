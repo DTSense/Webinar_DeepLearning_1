{
  "nbformat": 4,
  "nbformat_minor": 0,
  "metadata": {
    "kernelspec": {
      "display_name": "Python 3",
      "language": "python",
      "name": "python3"
    },
    "language_info": {
      "codemirror_mode": {
        "name": "ipython",
        "version": 3
      },
      "file_extension": ".py",
      "mimetype": "text/x-python",
      "name": "python",
      "nbconvert_exporter": "python",
      "pygments_lexer": "ipython3",
      "version": "3.7.3"
    },
    "colab": {
      "name": "DTSense-tensorflow2.0-tutorial-and-housing-price-prediction.ipynb",
      "provenance": []
    }
  },
  "cells": [
    {
      "cell_type": "markdown",
      "metadata": {
        "id": "oDNcrGswnhrZ"
      },
      "source": [
        "<a href=\"https://colab.research.google.com/github/DTSense/Webinar_DeepLearning_1/blob/main/1_kobar_latihan/DTSense-tensorflow2.0-tutorial-and-housing-price-prediction.ipynb\" target=\"_parent\"><img src=\"https://colab.research.google.com/assets/colab-badge.svg\" alt=\"Open In Colab\"/></a>"
      ]
    },
    {
      "cell_type": "markdown",
      "metadata": {
        "_uuid": "4cb58ef01caeeaa5907d8f9903caea33980ac7d4",
        "id": "qRxxVXKsnhrd"
      },
      "source": [
        "# Prediksi Harga Rumah - Dataset Boston Housing Price\n",
        "\n",
        "Pada tutorial ini, kita akan memprediksi harga rumah dari dataset Boston Housing Price"
      ]
    },
    {
      "cell_type": "markdown",
      "metadata": {
        "_uuid": "ecc59c7ae2f4138cc0344ddd8ae36be8892e6ec4",
        "id": "TmnDmYPUnhrh"
      },
      "source": [
        "## Predictive Model: Regression Analysis\n",
        "\n",
        "Pada Machine-Learning khususnya supervised learning masalah yang di hadapi ada dua, iaitu **Regression** dan **Classification**. Pada gambar berikut bisa di lihat perbedaan antara regresi dan klasifikasi.\n",
        "\n",
        "<img src=\"https://i.imgur.com/vvSoAzg.jpg\" alt=\"classification_regression\" width=\"400\"/>\n",
        "\n",
        "Analisis regresi adalah suatu solusi ketika diberikan input maka output yang diberikan berupa **continuous value**, sebagai contoh nilai berat badan atau nilai suhu temperatur. Sedangkan analisis klasifikasi adalah suatu solusi ketika diberikan suatu input, maka output yang di berikan berupa kelas atau kategori.\n",
        "\n",
        "Untuk dataset perumahan Boston, kita mempunyai 506 baris data, dengan masing-masing 13 fitur. Tugas kita sekarang adalah membuat model regresi yang menggunakan 13 fitur ini sebagai masukan dan mengeluarkan prediksi nilai tunggal dari \"nilai median rumah yang ditempati pemilik (dalam $ 1.000).\" sebagai output."
      ]
    },
    {
      "cell_type": "code",
      "metadata": {
        "_uuid": "c67f6a9eece5df23748b425da680a35294c1a2fd",
        "id": "wlnrA0EQnhrk",
        "outputId": "30e4b7fb-2a97-4665-dc74-27bae4da55fd",
        "colab": {
          "base_uri": "https://localhost:8080/",
          "height": 34
        }
      },
      "source": [
        "# Import TensorFlow, Keras, dan Layers\n",
        "import tensorflow as tf\n",
        "from tensorflow import keras\n",
        "from tensorflow.keras.layers import Dense\n",
        "\n",
        "# Import module umum yang di perlukan (numpy, os, sys)\n",
        "import numpy as np\n",
        "import os\n",
        "import sys\n",
        "\n",
        "# Images, plots, display, and visualization (pandas, seaborn, matplotlib)\n",
        "import matplotlib.pyplot as plt\n",
        "import seaborn\n",
        "import pandas as pd\n",
        "\n",
        "print(tf.__version__)"
      ],
      "execution_count": 2,
      "outputs": [
        {
          "output_type": "stream",
          "text": [
            "2.3.0\n"
          ],
          "name": "stdout"
        }
      ]
    },
    {
      "cell_type": "code",
      "metadata": {
        "_uuid": "ebf739c3adb0bef9fddf473c933e03254471cec7",
        "id": "Ypr3uePrnhr2",
        "outputId": "92626c5b-56f8-48fd-ab3d-02d638ed9c60",
        "colab": {
          "base_uri": "https://localhost:8080/",
          "height": 52
        }
      },
      "source": [
        "# check location dengan os.getcwd()\n",
        "print(os.getcwd())\n",
        "# check isi folder dengan os.listdir()\n",
        "os.listdir()"
      ],
      "execution_count": 4,
      "outputs": [
        {
          "output_type": "stream",
          "text": [
            "/content\n"
          ],
          "name": "stdout"
        },
        {
          "output_type": "execute_result",
          "data": {
            "text/plain": [
              "['.config', 'datasets_106564_253992_boston.csv', 'sample_data']"
            ]
          },
          "metadata": {
            "tags": []
          },
          "execution_count": 4
        }
      ]
    },
    {
      "cell_type": "code",
      "metadata": {
        "id": "TaV-15bYnhsE",
        "outputId": "dc791c84-5063-4bbd-8dab-cd4ea8d3cac1",
        "colab": {
          "base_uri": "https://localhost:8080/",
          "height": 206
        }
      },
      "source": [
        "# Read data csv dengan pandas\n",
        "data = pd.read_csv('datasets_106564_253992_boston.csv')\n",
        "\n",
        "# Perlihatkan 5 dataset pertama\n",
        "data.head()"
      ],
      "execution_count": 5,
      "outputs": [
        {
          "output_type": "execute_result",
          "data": {
            "text/html": [
              "<div>\n",
              "<style scoped>\n",
              "    .dataframe tbody tr th:only-of-type {\n",
              "        vertical-align: middle;\n",
              "    }\n",
              "\n",
              "    .dataframe tbody tr th {\n",
              "        vertical-align: top;\n",
              "    }\n",
              "\n",
              "    .dataframe thead th {\n",
              "        text-align: right;\n",
              "    }\n",
              "</style>\n",
              "<table border=\"1\" class=\"dataframe\">\n",
              "  <thead>\n",
              "    <tr style=\"text-align: right;\">\n",
              "      <th></th>\n",
              "      <th>CRIM</th>\n",
              "      <th>ZN</th>\n",
              "      <th>INDUS</th>\n",
              "      <th>CHAS</th>\n",
              "      <th>NX</th>\n",
              "      <th>RM</th>\n",
              "      <th>AGE</th>\n",
              "      <th>DIS</th>\n",
              "      <th>RAD</th>\n",
              "      <th>TAX</th>\n",
              "      <th>PTRATIO</th>\n",
              "      <th>B</th>\n",
              "      <th>LSTAT</th>\n",
              "      <th>MEDV</th>\n",
              "    </tr>\n",
              "  </thead>\n",
              "  <tbody>\n",
              "    <tr>\n",
              "      <th>0</th>\n",
              "      <td>0.00632</td>\n",
              "      <td>18.0</td>\n",
              "      <td>2.31</td>\n",
              "      <td>0</td>\n",
              "      <td>0.538</td>\n",
              "      <td>6.575</td>\n",
              "      <td>65.2</td>\n",
              "      <td>4.0900</td>\n",
              "      <td>1</td>\n",
              "      <td>296.0</td>\n",
              "      <td>15.3</td>\n",
              "      <td>396.90</td>\n",
              "      <td>4.98</td>\n",
              "      <td>24.0</td>\n",
              "    </tr>\n",
              "    <tr>\n",
              "      <th>1</th>\n",
              "      <td>0.02731</td>\n",
              "      <td>0.0</td>\n",
              "      <td>7.07</td>\n",
              "      <td>0</td>\n",
              "      <td>0.469</td>\n",
              "      <td>6.421</td>\n",
              "      <td>78.9</td>\n",
              "      <td>4.9671</td>\n",
              "      <td>2</td>\n",
              "      <td>242.0</td>\n",
              "      <td>17.8</td>\n",
              "      <td>396.90</td>\n",
              "      <td>9.14</td>\n",
              "      <td>21.6</td>\n",
              "    </tr>\n",
              "    <tr>\n",
              "      <th>2</th>\n",
              "      <td>0.02729</td>\n",
              "      <td>0.0</td>\n",
              "      <td>7.07</td>\n",
              "      <td>0</td>\n",
              "      <td>0.469</td>\n",
              "      <td>7.185</td>\n",
              "      <td>61.1</td>\n",
              "      <td>4.9671</td>\n",
              "      <td>2</td>\n",
              "      <td>242.0</td>\n",
              "      <td>17.8</td>\n",
              "      <td>392.83</td>\n",
              "      <td>4.03</td>\n",
              "      <td>34.7</td>\n",
              "    </tr>\n",
              "    <tr>\n",
              "      <th>3</th>\n",
              "      <td>0.03237</td>\n",
              "      <td>0.0</td>\n",
              "      <td>2.18</td>\n",
              "      <td>0</td>\n",
              "      <td>0.458</td>\n",
              "      <td>6.998</td>\n",
              "      <td>45.8</td>\n",
              "      <td>6.0622</td>\n",
              "      <td>3</td>\n",
              "      <td>222.0</td>\n",
              "      <td>18.7</td>\n",
              "      <td>394.63</td>\n",
              "      <td>2.94</td>\n",
              "      <td>33.4</td>\n",
              "    </tr>\n",
              "    <tr>\n",
              "      <th>4</th>\n",
              "      <td>0.06905</td>\n",
              "      <td>0.0</td>\n",
              "      <td>2.18</td>\n",
              "      <td>0</td>\n",
              "      <td>0.458</td>\n",
              "      <td>7.147</td>\n",
              "      <td>54.2</td>\n",
              "      <td>6.0622</td>\n",
              "      <td>3</td>\n",
              "      <td>222.0</td>\n",
              "      <td>18.7</td>\n",
              "      <td>396.90</td>\n",
              "      <td>5.33</td>\n",
              "      <td>36.2</td>\n",
              "    </tr>\n",
              "  </tbody>\n",
              "</table>\n",
              "</div>"
            ],
            "text/plain": [
              "      CRIM    ZN  INDUS  CHAS     NX  ...    TAX  PTRATIO       B  LSTAT  MEDV\n",
              "0  0.00632  18.0   2.31     0  0.538  ...  296.0     15.3  396.90   4.98  24.0\n",
              "1  0.02731   0.0   7.07     0  0.469  ...  242.0     17.8  396.90   9.14  21.6\n",
              "2  0.02729   0.0   7.07     0  0.469  ...  242.0     17.8  392.83   4.03  34.7\n",
              "3  0.03237   0.0   2.18     0  0.458  ...  222.0     18.7  394.63   2.94  33.4\n",
              "4  0.06905   0.0   2.18     0  0.458  ...  222.0     18.7  396.90   5.33  36.2\n",
              "\n",
              "[5 rows x 14 columns]"
            ]
          },
          "metadata": {
            "tags": []
          },
          "execution_count": 5
        }
      ]
    },
    {
      "cell_type": "markdown",
      "metadata": {
        "id": "Az7YNzoVnhsO"
      },
      "source": [
        "CRIM per capita crime rate by town <br>\n",
        "ZN proportion of residential land zoned for lots over 25,000 sq.ft. <br>\n",
        "INDUS proportion of non-retail business acres per town <br>\n",
        "CHAS Charles River dummy variable (= 1 if tract bounds river; 0 otherwise) <br>\n",
        "NOX nitric oxides concentration (parts per 10 million) <br>\n",
        "RM average number of rooms per dwelling <br>\n",
        "AGE proportion of owner-occupied units built prior to 1940 <br>\n",
        "DIS weighted distances to five Boston employment centres <br>\n",
        "RAD index of accessibility to radial highways <br>\n",
        "TAX full-value property-tax rate per 10,000usd <br>\n",
        "PTRATIO pupil-teacher ratio by town <br>\n",
        "B 1000(Bk - 0.63)^2 where Bk is the proportion of blacks by town <br>\n",
        "LSTAT % lower status of the population <br>\n",
        "MEDV Median value of owner-occupied homes (in $1000)"
      ]
    },
    {
      "cell_type": "code",
      "metadata": {
        "id": "UNrvHrnJnhsP",
        "outputId": "55c72d9e-0938-4062-f06a-c18e51949ac4",
        "colab": {
          "base_uri": "https://localhost:8080/",
          "height": 34
        }
      },
      "source": [
        "# Check the shape of dataframe\n",
        "data.shape"
      ],
      "execution_count": 6,
      "outputs": [
        {
          "output_type": "execute_result",
          "data": {
            "text/plain": [
              "(506, 14)"
            ]
          },
          "metadata": {
            "tags": []
          },
          "execution_count": 6
        }
      ]
    },
    {
      "cell_type": "code",
      "metadata": {
        "id": "YqQPk8slnhsY",
        "outputId": "ab406080-8a5f-4102-ecc3-5b7378455b0a",
        "colab": {
          "base_uri": "https://localhost:8080/",
          "height": 69
        }
      },
      "source": [
        "# Check column of data frame\n",
        "data.columns"
      ],
      "execution_count": 7,
      "outputs": [
        {
          "output_type": "execute_result",
          "data": {
            "text/plain": [
              "Index(['CRIM', 'ZN', 'INDUS', 'CHAS', 'NX', 'RM', 'AGE', 'DIS', 'RAD', 'TAX',\n",
              "       'PTRATIO', 'B', 'LSTAT', 'MEDV'],\n",
              "      dtype='object')"
            ]
          },
          "metadata": {
            "tags": []
          },
          "execution_count": 7
        }
      ]
    },
    {
      "cell_type": "code",
      "metadata": {
        "id": "dxE9FgKcnhsr",
        "outputId": "2b19b87d-6d5b-4279-faf0-8b8459d2e3ae",
        "colab": {
          "base_uri": "https://localhost:8080/",
          "height": 278
        }
      },
      "source": [
        "# Check data types in data frame\n",
        "data.dtypes"
      ],
      "execution_count": 8,
      "outputs": [
        {
          "output_type": "execute_result",
          "data": {
            "text/plain": [
              "CRIM       float64\n",
              "ZN         float64\n",
              "INDUS      float64\n",
              "CHAS         int64\n",
              "NX         float64\n",
              "RM         float64\n",
              "AGE        float64\n",
              "DIS        float64\n",
              "RAD          int64\n",
              "TAX        float64\n",
              "PTRATIO    float64\n",
              "B          float64\n",
              "LSTAT      float64\n",
              "MEDV       float64\n",
              "dtype: object"
            ]
          },
          "metadata": {
            "tags": []
          },
          "execution_count": 8
        }
      ]
    },
    {
      "cell_type": "code",
      "metadata": {
        "id": "554GIOZ6nhsy",
        "outputId": "25ab47ed-c5d7-4ab6-c6f4-96b0835a474d",
        "colab": {
          "base_uri": "https://localhost:8080/",
          "height": 278
        }
      },
      "source": [
        "# Identifying the unique number of values in the dataset\n",
        "data.nunique()"
      ],
      "execution_count": 9,
      "outputs": [
        {
          "output_type": "execute_result",
          "data": {
            "text/plain": [
              "CRIM       504\n",
              "ZN          26\n",
              "INDUS       76\n",
              "CHAS         2\n",
              "NX          81\n",
              "RM         446\n",
              "AGE        356\n",
              "DIS        412\n",
              "RAD          9\n",
              "TAX         66\n",
              "PTRATIO     46\n",
              "B          357\n",
              "LSTAT      455\n",
              "MEDV       229\n",
              "dtype: int64"
            ]
          },
          "metadata": {
            "tags": []
          },
          "execution_count": 9
        }
      ]
    },
    {
      "cell_type": "code",
      "metadata": {
        "id": "PVtN723YnhtD",
        "outputId": "2330b83d-6d2d-4e38-a447-1e13b3374694",
        "colab": {
          "base_uri": "https://localhost:8080/",
          "height": 489
        }
      },
      "source": [
        "# Reset index sehingga nama column menjadi index\n",
        "nu = data.nunique().reset_index()\n",
        "nu"
      ],
      "execution_count": 10,
      "outputs": [
        {
          "output_type": "execute_result",
          "data": {
            "text/html": [
              "<div>\n",
              "<style scoped>\n",
              "    .dataframe tbody tr th:only-of-type {\n",
              "        vertical-align: middle;\n",
              "    }\n",
              "\n",
              "    .dataframe tbody tr th {\n",
              "        vertical-align: top;\n",
              "    }\n",
              "\n",
              "    .dataframe thead th {\n",
              "        text-align: right;\n",
              "    }\n",
              "</style>\n",
              "<table border=\"1\" class=\"dataframe\">\n",
              "  <thead>\n",
              "    <tr style=\"text-align: right;\">\n",
              "      <th></th>\n",
              "      <th>index</th>\n",
              "      <th>0</th>\n",
              "    </tr>\n",
              "  </thead>\n",
              "  <tbody>\n",
              "    <tr>\n",
              "      <th>0</th>\n",
              "      <td>CRIM</td>\n",
              "      <td>504</td>\n",
              "    </tr>\n",
              "    <tr>\n",
              "      <th>1</th>\n",
              "      <td>ZN</td>\n",
              "      <td>26</td>\n",
              "    </tr>\n",
              "    <tr>\n",
              "      <th>2</th>\n",
              "      <td>INDUS</td>\n",
              "      <td>76</td>\n",
              "    </tr>\n",
              "    <tr>\n",
              "      <th>3</th>\n",
              "      <td>CHAS</td>\n",
              "      <td>2</td>\n",
              "    </tr>\n",
              "    <tr>\n",
              "      <th>4</th>\n",
              "      <td>NX</td>\n",
              "      <td>81</td>\n",
              "    </tr>\n",
              "    <tr>\n",
              "      <th>5</th>\n",
              "      <td>RM</td>\n",
              "      <td>446</td>\n",
              "    </tr>\n",
              "    <tr>\n",
              "      <th>6</th>\n",
              "      <td>AGE</td>\n",
              "      <td>356</td>\n",
              "    </tr>\n",
              "    <tr>\n",
              "      <th>7</th>\n",
              "      <td>DIS</td>\n",
              "      <td>412</td>\n",
              "    </tr>\n",
              "    <tr>\n",
              "      <th>8</th>\n",
              "      <td>RAD</td>\n",
              "      <td>9</td>\n",
              "    </tr>\n",
              "    <tr>\n",
              "      <th>9</th>\n",
              "      <td>TAX</td>\n",
              "      <td>66</td>\n",
              "    </tr>\n",
              "    <tr>\n",
              "      <th>10</th>\n",
              "      <td>PTRATIO</td>\n",
              "      <td>46</td>\n",
              "    </tr>\n",
              "    <tr>\n",
              "      <th>11</th>\n",
              "      <td>B</td>\n",
              "      <td>357</td>\n",
              "    </tr>\n",
              "    <tr>\n",
              "      <th>12</th>\n",
              "      <td>LSTAT</td>\n",
              "      <td>455</td>\n",
              "    </tr>\n",
              "    <tr>\n",
              "      <th>13</th>\n",
              "      <td>MEDV</td>\n",
              "      <td>229</td>\n",
              "    </tr>\n",
              "  </tbody>\n",
              "</table>\n",
              "</div>"
            ],
            "text/plain": [
              "      index    0\n",
              "0      CRIM  504\n",
              "1        ZN   26\n",
              "2     INDUS   76\n",
              "3      CHAS    2\n",
              "4        NX   81\n",
              "5        RM  446\n",
              "6       AGE  356\n",
              "7       DIS  412\n",
              "8       RAD    9\n",
              "9       TAX   66\n",
              "10  PTRATIO   46\n",
              "11        B  357\n",
              "12    LSTAT  455\n",
              "13     MEDV  229"
            ]
          },
          "metadata": {
            "tags": []
          },
          "execution_count": 10
        }
      ]
    },
    {
      "cell_type": "code",
      "metadata": {
        "id": "4GNSyClbnhtL",
        "outputId": "2a94d4db-9f07-46a8-a308-425b71b945c6",
        "colab": {
          "base_uri": "https://localhost:8080/",
          "height": 279
        }
      },
      "source": [
        "# Rubah column di data baru dengan nama column yang baru lalu visualisasikan dengan seaborn\n",
        "import seaborn as sns\n",
        "nu.columns = ['feature', 'nunique']\n",
        "ax = sns.barplot(x='feature', y='nunique', data=nu)"
      ],
      "execution_count": 12,
      "outputs": [
        {
          "output_type": "display_data",
          "data": {
            "image/png": "[encoded data removed]",
            "text/plain": [
              "<Figure size 432x288 with 1 Axes>"
            ]
          },
          "metadata": {
            "tags": [],
            "needs_background": "light"
          }
        }
      ]
    },
    {
      "cell_type": "code",
      "metadata": {
        "id": "z1YHYTlynhtS",
        "outputId": "b549fb86-a09b-431c-ca31-43c01a2439e3",
        "colab": {
          "base_uri": "https://localhost:8080/",
          "height": 278
        }
      },
      "source": [
        "# Check for missing values\n",
        "data.isnull().sum()"
      ],
      "execution_count": 13,
      "outputs": [
        {
          "output_type": "execute_result",
          "data": {
            "text/plain": [
              "CRIM       0\n",
              "ZN         0\n",
              "INDUS      0\n",
              "CHAS       0\n",
              "NX         0\n",
              "RM         0\n",
              "AGE        0\n",
              "DIS        0\n",
              "RAD        0\n",
              "TAX        0\n",
              "PTRATIO    0\n",
              "B          0\n",
              "LSTAT      0\n",
              "MEDV       0\n",
              "dtype: int64"
            ]
          },
          "metadata": {
            "tags": []
          },
          "execution_count": 13
        }
      ]
    },
    {
      "cell_type": "code",
      "metadata": {
        "id": "-gQ5LJKinhtY",
        "outputId": "8e000df1-0b5a-4b89-8a28-87f044188e8c",
        "colab": {
          "base_uri": "https://localhost:8080/",
          "height": 49
        }
      },
      "source": [
        "# See rows with missing values\n",
        "data[data.isnull().any(axis=1)]"
      ],
      "execution_count": 14,
      "outputs": [
        {
          "output_type": "execute_result",
          "data": {
            "text/html": [
              "<div>\n",
              "<style scoped>\n",
              "    .dataframe tbody tr th:only-of-type {\n",
              "        vertical-align: middle;\n",
              "    }\n",
              "\n",
              "    .dataframe tbody tr th {\n",
              "        vertical-align: top;\n",
              "    }\n",
              "\n",
              "    .dataframe thead th {\n",
              "        text-align: right;\n",
              "    }\n",
              "</style>\n",
              "<table border=\"1\" class=\"dataframe\">\n",
              "  <thead>\n",
              "    <tr style=\"text-align: right;\">\n",
              "      <th></th>\n",
              "      <th>CRIM</th>\n",
              "      <th>ZN</th>\n",
              "      <th>INDUS</th>\n",
              "      <th>CHAS</th>\n",
              "      <th>NX</th>\n",
              "      <th>RM</th>\n",
              "      <th>AGE</th>\n",
              "      <th>DIS</th>\n",
              "      <th>RAD</th>\n",
              "      <th>TAX</th>\n",
              "      <th>PTRATIO</th>\n",
              "      <th>B</th>\n",
              "      <th>LSTAT</th>\n",
              "      <th>MEDV</th>\n",
              "    </tr>\n",
              "  </thead>\n",
              "  <tbody>\n",
              "  </tbody>\n",
              "</table>\n",
              "</div>"
            ],
            "text/plain": [
              "Empty DataFrame\n",
              "Columns: [CRIM, ZN, INDUS, CHAS, NX, RM, AGE, DIS, RAD, TAX, PTRATIO, B, LSTAT, MEDV]\n",
              "Index: []"
            ]
          },
          "metadata": {
            "tags": []
          },
          "execution_count": 14
        }
      ]
    },
    {
      "cell_type": "code",
      "metadata": {
        "id": "ERULGOaxnhte",
        "outputId": "7111c2b4-da29-47e3-e270-caaed41468e5",
        "colab": {
          "base_uri": "https://localhost:8080/",
          "height": 320
        }
      },
      "source": [
        "# Viewing the data statistics\n",
        "data.describe()"
      ],
      "execution_count": 15,
      "outputs": [
        {
          "output_type": "execute_result",
          "data": {
            "text/html": [
              "<div>\n",
              "<style scoped>\n",
              "    .dataframe tbody tr th:only-of-type {\n",
              "        vertical-align: middle;\n",
              "    }\n",
              "\n",
              "    .dataframe tbody tr th {\n",
              "        vertical-align: top;\n",
              "    }\n",
              "\n",
              "    .dataframe thead th {\n",
              "        text-align: right;\n",
              "    }\n",
              "</style>\n",
              "<table border=\"1\" class=\"dataframe\">\n",
              "  <thead>\n",
              "    <tr style=\"text-align: right;\">\n",
              "      <th></th>\n",
              "      <th>CRIM</th>\n",
              "      <th>ZN</th>\n",
              "      <th>INDUS</th>\n",
              "      <th>CHAS</th>\n",
              "      <th>NX</th>\n",
              "      <th>RM</th>\n",
              "      <th>AGE</th>\n",
              "      <th>DIS</th>\n",
              "      <th>RAD</th>\n",
              "      <th>TAX</th>\n",
              "      <th>PTRATIO</th>\n",
              "      <th>B</th>\n",
              "      <th>LSTAT</th>\n",
              "      <th>MEDV</th>\n",
              "    </tr>\n",
              "  </thead>\n",
              "  <tbody>\n",
              "    <tr>\n",
              "      <th>count</th>\n",
              "      <td>506.000000</td>\n",
              "      <td>506.000000</td>\n",
              "      <td>506.000000</td>\n",
              "      <td>506.000000</td>\n",
              "      <td>506.000000</td>\n",
              "      <td>506.000000</td>\n",
              "      <td>506.000000</td>\n",
              "      <td>506.000000</td>\n",
              "      <td>506.000000</td>\n",
              "      <td>506.000000</td>\n",
              "      <td>506.000000</td>\n",
              "      <td>506.000000</td>\n",
              "      <td>506.000000</td>\n",
              "      <td>506.000000</td>\n",
              "    </tr>\n",
              "    <tr>\n",
              "      <th>mean</th>\n",
              "      <td>3.613524</td>\n",
              "      <td>11.363636</td>\n",
              "      <td>11.136779</td>\n",
              "      <td>0.069170</td>\n",
              "      <td>0.554695</td>\n",
              "      <td>6.284634</td>\n",
              "      <td>68.574901</td>\n",
              "      <td>3.795043</td>\n",
              "      <td>9.549407</td>\n",
              "      <td>408.237154</td>\n",
              "      <td>18.455534</td>\n",
              "      <td>356.674032</td>\n",
              "      <td>12.653063</td>\n",
              "      <td>22.532806</td>\n",
              "    </tr>\n",
              "    <tr>\n",
              "      <th>std</th>\n",
              "      <td>8.601545</td>\n",
              "      <td>23.322453</td>\n",
              "      <td>6.860353</td>\n",
              "      <td>0.253994</td>\n",
              "      <td>0.115878</td>\n",
              "      <td>0.702617</td>\n",
              "      <td>28.148861</td>\n",
              "      <td>2.105710</td>\n",
              "      <td>8.707259</td>\n",
              "      <td>168.537116</td>\n",
              "      <td>2.164946</td>\n",
              "      <td>91.294864</td>\n",
              "      <td>7.141062</td>\n",
              "      <td>9.197104</td>\n",
              "    </tr>\n",
              "    <tr>\n",
              "      <th>min</th>\n",
              "      <td>0.006320</td>\n",
              "      <td>0.000000</td>\n",
              "      <td>0.460000</td>\n",
              "      <td>0.000000</td>\n",
              "      <td>0.385000</td>\n",
              "      <td>3.561000</td>\n",
              "      <td>2.900000</td>\n",
              "      <td>1.129600</td>\n",
              "      <td>1.000000</td>\n",
              "      <td>187.000000</td>\n",
              "      <td>12.600000</td>\n",
              "      <td>0.320000</td>\n",
              "      <td>1.730000</td>\n",
              "      <td>5.000000</td>\n",
              "    </tr>\n",
              "    <tr>\n",
              "      <th>25%</th>\n",
              "      <td>0.082045</td>\n",
              "      <td>0.000000</td>\n",
              "      <td>5.190000</td>\n",
              "      <td>0.000000</td>\n",
              "      <td>0.449000</td>\n",
              "      <td>5.885500</td>\n",
              "      <td>45.025000</td>\n",
              "      <td>2.100175</td>\n",
              "      <td>4.000000</td>\n",
              "      <td>279.000000</td>\n",
              "      <td>17.400000</td>\n",
              "      <td>375.377500</td>\n",
              "      <td>6.950000</td>\n",
              "      <td>17.025000</td>\n",
              "    </tr>\n",
              "    <tr>\n",
              "      <th>50%</th>\n",
              "      <td>0.256510</td>\n",
              "      <td>0.000000</td>\n",
              "      <td>9.690000</td>\n",
              "      <td>0.000000</td>\n",
              "      <td>0.538000</td>\n",
              "      <td>6.208500</td>\n",
              "      <td>77.500000</td>\n",
              "      <td>3.207450</td>\n",
              "      <td>5.000000</td>\n",
              "      <td>330.000000</td>\n",
              "      <td>19.050000</td>\n",
              "      <td>391.440000</td>\n",
              "      <td>11.360000</td>\n",
              "      <td>21.200000</td>\n",
              "    </tr>\n",
              "    <tr>\n",
              "      <th>75%</th>\n",
              "      <td>3.677083</td>\n",
              "      <td>12.500000</td>\n",
              "      <td>18.100000</td>\n",
              "      <td>0.000000</td>\n",
              "      <td>0.624000</td>\n",
              "      <td>6.623500</td>\n",
              "      <td>94.075000</td>\n",
              "      <td>5.188425</td>\n",
              "      <td>24.000000</td>\n",
              "      <td>666.000000</td>\n",
              "      <td>20.200000</td>\n",
              "      <td>396.225000</td>\n",
              "      <td>16.955000</td>\n",
              "      <td>25.000000</td>\n",
              "    </tr>\n",
              "    <tr>\n",
              "      <th>max</th>\n",
              "      <td>88.976200</td>\n",
              "      <td>100.000000</td>\n",
              "      <td>27.740000</td>\n",
              "      <td>1.000000</td>\n",
              "      <td>0.871000</td>\n",
              "      <td>8.780000</td>\n",
              "      <td>100.000000</td>\n",
              "      <td>12.126500</td>\n",
              "      <td>24.000000</td>\n",
              "      <td>711.000000</td>\n",
              "      <td>22.000000</td>\n",
              "      <td>396.900000</td>\n",
              "      <td>37.970000</td>\n",
              "      <td>50.000000</td>\n",
              "    </tr>\n",
              "  </tbody>\n",
              "</table>\n",
              "</div>"
            ],
            "text/plain": [
              "             CRIM          ZN       INDUS  ...           B       LSTAT        MEDV\n",
              "count  506.000000  506.000000  506.000000  ...  506.000000  506.000000  506.000000\n",
              "mean     3.613524   11.363636   11.136779  ...  356.674032   12.653063   22.532806\n",
              "std      8.601545   23.322453    6.860353  ...   91.294864    7.141062    9.197104\n",
              "min      0.006320    0.000000    0.460000  ...    0.320000    1.730000    5.000000\n",
              "25%      0.082045    0.000000    5.190000  ...  375.377500    6.950000   17.025000\n",
              "50%      0.256510    0.000000    9.690000  ...  391.440000   11.360000   21.200000\n",
              "75%      3.677083   12.500000   18.100000  ...  396.225000   16.955000   25.000000\n",
              "max     88.976200  100.000000   27.740000  ...  396.900000   37.970000   50.000000\n",
              "\n",
              "[8 rows x 14 columns]"
            ]
          },
          "metadata": {
            "tags": []
          },
          "execution_count": 15
        }
      ]
    },
    {
      "cell_type": "code",
      "metadata": {
        "id": "b9gpsljjnhtk",
        "outputId": "653c8973-df93-41a6-e3ae-0ae344c83113",
        "colab": {
          "base_uri": "https://localhost:8080/",
          "height": 34
        }
      },
      "source": [
        "# Finding out the correlation between the features\n",
        "corr = data.corr()\n",
        "corr.shape"
      ],
      "execution_count": 16,
      "outputs": [
        {
          "output_type": "execute_result",
          "data": {
            "text/plain": [
              "(14, 14)"
            ]
          },
          "metadata": {
            "tags": []
          },
          "execution_count": 16
        }
      ]
    },
    {
      "cell_type": "code",
      "metadata": {
        "id": "0-SZVpGpnhts",
        "outputId": "939c9e70-eb86-481d-dd6e-b5bc597c973a",
        "colab": {
          "base_uri": "https://localhost:8080/",
          "height": 1000
        }
      },
      "source": [
        "# Plotting the heatmap of correlation between features\n",
        "plt.figure(figsize=(20,20))\n",
        "sns.heatmap(corr, cbar=True, square=True, annot=True, annot_kws={'size':15}, cmap='Greens')"
      ],
      "execution_count": 19,
      "outputs": [
        {
          "output_type": "execute_result",
          "data": {
            "text/plain": [
              "<matplotlib.axes._subplots.AxesSubplot at 0x7f9f19e6deb8>"
            ]
          },
          "metadata": {
            "tags": []
          },
          "execution_count": 19
        },
        {
          "output_type": "display_data",
          "data": {
            "image/png": "[encoded data removed]",
            "text/plain": [
              "<Figure size 1440x1440 with 2 Axes>"
            ]
          },
          "metadata": {
            "tags": [],
            "needs_background": "light"
          }
        }
      ]
    },
    {
      "cell_type": "code",
      "metadata": {
        "id": "RxB3FR9Hnhty"
      },
      "source": [
        "# Spliting target variable and independent variables\n",
        "X = data.drop(['MEDV'], axis = 1)\n",
        "y = data['MEDV']"
      ],
      "execution_count": 20,
      "outputs": []
    },
    {
      "cell_type": "code",
      "metadata": {
        "id": "AmA2emi3nht3"
      },
      "source": [
        "# Splitting to training and testing data, gunakan konvensi X_train, X_test, y_train, y_test\n",
        "\n",
        "from sklearn.model_selection import train_test_split\n",
        "X_train, X_test, y_train, y_test = train_test_split(X, y, test_size = 0.2, random_state=4)"
      ],
      "execution_count": 21,
      "outputs": []
    },
    {
      "cell_type": "markdown",
      "metadata": {
        "id": "z5ke_S_znht7"
      },
      "source": [
        "## Preparing the data\n",
        "\n",
        "We are going to do a feature normalization . Feature normalizaion is when you subtract the mean of the feature from each feature and divide each result by the standard deviation.\n"
      ]
    },
    {
      "cell_type": "code",
      "metadata": {
        "id": "KiKpBaBJnht8"
      },
      "source": [
        "# Biar lebih mudah di mengerti ganti dari X_ menjadi Feature_ dan y_ menjadi label_ *optional\n",
        "feature_train = X_train\n",
        "feature_test = X_test\n",
        "label_train = y_train\n",
        "label_test = y_test"
      ],
      "execution_count": 22,
      "outputs": []
    },
    {
      "cell_type": "code",
      "metadata": {
        "id": "JcbAQQLdnhuA"
      },
      "source": [
        "# Gunakan approach Normalization untuk smoothing the data. Rumus (feature_train - train_mean) / train_std\n",
        "# Using per-feature statistics (mean, standard deviation) from the training set to do Normalization\n",
        "# Normalization digunakan pada training data, tidak langsung pada test data\n",
        "\n",
        "train_mean = np.mean(feature_train, axis=0)\n",
        "train_std = np.std(feature_train, axis = 0)\n",
        "\n",
        "feature_train_norm = (feature_train - train_mean) / train_std\n",
        "\n",
        "\n",
        "# Note that the quantities used for normalizing the test data are computed using the\n",
        "# training data. You should never use in your workflow any quantity computed on the\n",
        "# test data, even for something as simple as data normalization."
      ],
      "execution_count": 23,
      "outputs": []
    },
    {
      "cell_type": "code",
      "metadata": {
        "id": "PMKpk9DwuqgP",
        "outputId": "0a070c0e-e5ac-4a55-b7b7-292562ceea54",
        "colab": {
          "base_uri": "https://localhost:8080/",
          "height": 444
        }
      },
      "source": [
        "feature_train_norm"
      ],
      "execution_count": 24,
      "outputs": [
        {
          "output_type": "execute_result",
          "data": {
            "text/html": [
              "<div>\n",
              "<style scoped>\n",
              "    .dataframe tbody tr th:only-of-type {\n",
              "        vertical-align: middle;\n",
              "    }\n",
              "\n",
              "    .dataframe tbody tr th {\n",
              "        vertical-align: top;\n",
              "    }\n",
              "\n",
              "    .dataframe thead th {\n",
              "        text-align: right;\n",
              "    }\n",
              "</style>\n",
              "<table border=\"1\" class=\"dataframe\">\n",
              "  <thead>\n",
              "    <tr style=\"text-align: right;\">\n",
              "      <th></th>\n",
              "      <th>CRIM</th>\n",
              "      <th>ZN</th>\n",
              "      <th>INDUS</th>\n",
              "      <th>CHAS</th>\n",
              "      <th>NX</th>\n",
              "      <th>RM</th>\n",
              "      <th>AGE</th>\n",
              "      <th>DIS</th>\n",
              "      <th>RAD</th>\n",
              "      <th>TAX</th>\n",
              "      <th>PTRATIO</th>\n",
              "      <th>B</th>\n",
              "      <th>LSTAT</th>\n",
              "    </tr>\n",
              "  </thead>\n",
              "  <tbody>\n",
              "    <tr>\n",
              "      <th>192</th>\n",
              "      <td>-0.427448</td>\n",
              "      <td>1.484011</td>\n",
              "      <td>-1.114239</td>\n",
              "      <td>-0.256833</td>\n",
              "      <td>-1.021915</td>\n",
              "      <td>1.273277</td>\n",
              "      <td>-1.517903</td>\n",
              "      <td>1.262452</td>\n",
              "      <td>-0.543255</td>\n",
              "      <td>-0.088856</td>\n",
              "      <td>-1.509687</td>\n",
              "      <td>0.365233</td>\n",
              "      <td>-1.374464</td>\n",
              "    </tr>\n",
              "    <tr>\n",
              "      <th>138</th>\n",
              "      <td>-0.408222</td>\n",
              "      <td>-0.479907</td>\n",
              "      <td>1.574679</td>\n",
              "      <td>-0.256833</td>\n",
              "      <td>0.569434</td>\n",
              "      <td>-0.583574</td>\n",
              "      <td>1.044346</td>\n",
              "      <td>-0.993784</td>\n",
              "      <td>-0.656796</td>\n",
              "      <td>0.140768</td>\n",
              "      <td>1.257406</td>\n",
              "      <td>0.382577</td>\n",
              "      <td>1.182332</td>\n",
              "    </tr>\n",
              "    <tr>\n",
              "      <th>251</th>\n",
              "      <td>-0.412430</td>\n",
              "      <td>0.480231</td>\n",
              "      <td>-0.761546</td>\n",
              "      <td>-0.256833</td>\n",
              "      <td>-1.072975</td>\n",
              "      <td>0.233103</td>\n",
              "      <td>-2.137974</td>\n",
              "      <td>1.692437</td>\n",
              "      <td>-0.316173</td>\n",
              "      <td>-0.489225</td>\n",
              "      <td>0.288924</td>\n",
              "      <td>0.215063</td>\n",
              "      <td>-1.274687</td>\n",
              "    </tr>\n",
              "    <tr>\n",
              "      <th>13</th>\n",
              "      <td>-0.363451</td>\n",
              "      <td>-0.479907</td>\n",
              "      <td>-0.429257</td>\n",
              "      <td>-0.256833</td>\n",
              "      <td>-0.162417</td>\n",
              "      <td>-0.454255</td>\n",
              "      <td>-0.252815</td>\n",
              "      <td>0.431323</td>\n",
              "      <td>-0.656796</td>\n",
              "      <td>-0.624644</td>\n",
              "      <td>1.165170</td>\n",
              "      <td>0.436961</td>\n",
              "      <td>-0.627519</td>\n",
              "    </tr>\n",
              "    <tr>\n",
              "      <th>256</th>\n",
              "      <td>-0.435844</td>\n",
              "      <td>3.447930</td>\n",
              "      <td>-1.069059</td>\n",
              "      <td>-0.256833</td>\n",
              "      <td>-1.387840</td>\n",
              "      <td>1.661233</td>\n",
              "      <td>-1.236376</td>\n",
              "      <td>1.195063</td>\n",
              "      <td>-0.770337</td>\n",
              "      <td>-0.995575</td>\n",
              "      <td>-1.186859</td>\n",
              "      <td>0.318794</td>\n",
              "      <td>-1.341205</td>\n",
              "    </tr>\n",
              "    <tr>\n",
              "      <th>...</th>\n",
              "      <td>...</td>\n",
              "      <td>...</td>\n",
              "      <td>...</td>\n",
              "      <td>...</td>\n",
              "      <td>...</td>\n",
              "      <td>...</td>\n",
              "      <td>...</td>\n",
              "      <td>...</td>\n",
              "      <td>...</td>\n",
              "      <td>...</td>\n",
              "      <td>...</td>\n",
              "      <td>...</td>\n",
              "      <td>...</td>\n",
              "    </tr>\n",
              "    <tr>\n",
              "      <th>385</th>\n",
              "      <td>1.543294</td>\n",
              "      <td>-0.479907</td>\n",
              "      <td>1.022321</td>\n",
              "      <td>-0.256833</td>\n",
              "      <td>1.216185</td>\n",
              "      <td>-1.398845</td>\n",
              "      <td>1.040783</td>\n",
              "      <td>-1.107506</td>\n",
              "      <td>1.614026</td>\n",
              "      <td>1.489070</td>\n",
              "      <td>0.796224</td>\n",
              "      <td>0.436961</td>\n",
              "      <td>2.497454</td>\n",
              "    </tr>\n",
              "    <tr>\n",
              "      <th>197</th>\n",
              "      <td>-0.432159</td>\n",
              "      <td>3.011503</td>\n",
              "      <td>-1.394061</td>\n",
              "      <td>-0.256833</td>\n",
              "      <td>-1.302742</td>\n",
              "      <td>1.173476</td>\n",
              "      <td>-1.150849</td>\n",
              "      <td>1.651310</td>\n",
              "      <td>-0.883878</td>\n",
              "      <td>-0.495113</td>\n",
              "      <td>-2.708761</td>\n",
              "      <td>-0.039621</td>\n",
              "      <td>-0.579016</td>\n",
              "    </tr>\n",
              "    <tr>\n",
              "      <th>439</th>\n",
              "      <td>0.668850</td>\n",
              "      <td>-0.479907</td>\n",
              "      <td>1.022321</td>\n",
              "      <td>-0.256833</td>\n",
              "      <td>1.556581</td>\n",
              "      <td>-0.906871</td>\n",
              "      <td>0.891110</td>\n",
              "      <td>-0.924097</td>\n",
              "      <td>1.614026</td>\n",
              "      <td>1.489070</td>\n",
              "      <td>0.796224</td>\n",
              "      <td>0.436961</td>\n",
              "      <td>1.398517</td>\n",
              "    </tr>\n",
              "    <tr>\n",
              "      <th>174</th>\n",
              "      <td>-0.427703</td>\n",
              "      <td>-0.479907</td>\n",
              "      <td>-1.025337</td>\n",
              "      <td>-0.256833</td>\n",
              "      <td>-0.400694</td>\n",
              "      <td>-0.580762</td>\n",
              "      <td>-0.006924</td>\n",
              "      <td>-0.509213</td>\n",
              "      <td>-0.543255</td>\n",
              "      <td>-0.689410</td>\n",
              "      <td>-0.864032</td>\n",
              "      <td>0.395893</td>\n",
              "      <td>-0.436279</td>\n",
              "    </tr>\n",
              "    <tr>\n",
              "      <th>122</th>\n",
              "      <td>-0.426700</td>\n",
              "      <td>-0.479907</td>\n",
              "      <td>2.122664</td>\n",
              "      <td>-0.256833</td>\n",
              "      <td>0.203508</td>\n",
              "      <td>-0.437387</td>\n",
              "      <td>0.855474</td>\n",
              "      <td>-0.797620</td>\n",
              "      <td>-0.883878</td>\n",
              "      <td>-1.325291</td>\n",
              "      <td>0.288924</td>\n",
              "      <td>0.226477</td>\n",
              "      <td>0.712547</td>\n",
              "    </tr>\n",
              "  </tbody>\n",
              "</table>\n",
              "<p>404 rows × 13 columns</p>\n",
              "</div>"
            ],
            "text/plain": [
              "         CRIM        ZN     INDUS  ...   PTRATIO         B     LSTAT\n",
              "192 -0.427448  1.484011 -1.114239  ... -1.509687  0.365233 -1.374464\n",
              "138 -0.408222 -0.479907  1.574679  ...  1.257406  0.382577  1.182332\n",
              "251 -0.412430  0.480231 -0.761546  ...  0.288924  0.215063 -1.274687\n",
              "13  -0.363451 -0.479907 -0.429257  ...  1.165170  0.436961 -0.627519\n",
              "256 -0.435844  3.447930 -1.069059  ... -1.186859  0.318794 -1.341205\n",
              "..        ...       ...       ...  ...       ...       ...       ...\n",
              "385  1.543294 -0.479907  1.022321  ...  0.796224  0.436961  2.497454\n",
              "197 -0.432159  3.011503 -1.394061  ... -2.708761 -0.039621 -0.579016\n",
              "439  0.668850 -0.479907  1.022321  ...  0.796224  0.436961  1.398517\n",
              "174 -0.427703 -0.479907 -1.025337  ... -0.864032  0.395893 -0.436279\n",
              "122 -0.426700 -0.479907  2.122664  ...  0.288924  0.226477  0.712547\n",
              "\n",
              "[404 rows x 13 columns]"
            ]
          },
          "metadata": {
            "tags": []
          },
          "execution_count": 24
        }
      ]
    },
    {
      "cell_type": "markdown",
      "metadata": {
        "id": "jz3Ecy-OnhuE"
      },
      "source": [
        "### Membuat Machine Learning Model\n",
        "\n",
        "Membuat NN membutuhkan konfigurasi lapisan model, kemudian menyusun model. Pertama kita menumpuk beberapa lapisan bersama-sama menggunakan `keras.Sequential`. Selanjutnya kita mengkonfigurasi fungsi **loss**, **optimizer**, dan **Metrics** untuk kita pantau. Ini ditambahkan selama langkah kompilasi model:\n",
        "\n",
        "* *Loss function* - mengukur seberapa akurat model selama pelatihan, dan untuk meminimalisir nilai loss, kita menggunakan optimizer.\n",
        "* *Optimizer* - bagaimana model diperbarui berdasarkan data yang terlihat beserta loss functionnya.\n",
        "* *Metrics* - digunakan untuk memantau langkah-langkah pelatihan dan pengujian.\n",
        "\n",
        "Mari membangun jaringan dengan 1 lapisan tersembunyi dari 20 neuron, dan menggunakan mean squared error (MSE) sebagai fungsi kerugian (yang paling umum untuk masalah regresi):"
      ]
    },
    {
      "cell_type": "code",
      "metadata": {
        "_uuid": "14b77ff893198e3d49426d43edcc1bc1275b7afb",
        "id": "c8IdaoFDnhuF"
      },
      "source": [
        "# Buat Machine learning Model di dalam function build_model()\n",
        "def build_model():\n",
        "    model = keras.Sequential([\n",
        "        Dense(64, activation=tf.nn.relu, input_shape=[13]),\n",
        "        Dense(1)\n",
        "    ])\n",
        "    # Jangan lupa untuk compile model\n",
        "    model.compile(optimizer=\"adam\", loss=\"mse\", metrics=['mae', 'mse'])\n",
        "    return model"
      ],
      "execution_count": 26,
      "outputs": []
    },
    {
      "cell_type": "markdown",
      "metadata": {
        "_uuid": "9cef609938a182870f902be31c70a043358450f8",
        "id": "_CqA8-eUnhuJ"
      },
      "source": [
        "### Train the model\n",
        "\n",
        "Training the neural network model requires the following steps:\n",
        "\n",
        "1. Feed the training data to the model—in this example, the `train_features` and `train_labels` arrays.\n",
        "2. The model learns to associate features and labels.\n",
        "3. We ask the model to make predictions about a test set—in this example, the `test_features` array. We verify that the predictions match the labels from the `test_labels` array. \n",
        "\n",
        "To start training,  call the `model.fit` method—the model is \"fit\" to the training data:"
      ]
    },
    {
      "cell_type": "code",
      "metadata": {
        "_uuid": "868779ae75945302557634b8fc34c8dbc79b7c7e",
        "id": "z7miZ4r3nhuK",
        "outputId": "cb9da25b-a1ee-46d9-c94e-bc9bddb05917",
        "colab": {
          "base_uri": "https://localhost:8080/",
          "height": 104
        }
      },
      "source": [
        "# this helps makes our output less verbose but still shows progress\n",
        "class PrintDot(keras.callbacks.Callback):\n",
        "    def on_epoch_end(self, epoch, logs):\n",
        "        if epoch % 100 == 0: print('')\n",
        "        print('.', end='')\n",
        "\n",
        "# Call build_model to variable model\n",
        "model = build_model()\n",
        "\n",
        "# Definisikan early stopping\n",
        "early_stop = keras.callbacks.EarlyStopping(monitor='val_loss', patience=50)\n",
        "\n",
        "# Training dengan metode .fit() dan masukkan ke variable history\n",
        "####\n",
        "history = model.fit(feature_train_norm, label_train, epochs=1000, verbose=0, validation_split=0.1, callbacks=[early_stop, PrintDot()])\n",
        "\n",
        "hist = pd.DataFrame(history.history)\n",
        "hist['epoch'] = history.epoch\n",
        "\n",
        "# show RMSE measure to compare to Kaggle leaderboard on https://www.kaggle.com/c/boston-housing/leaderboard\n",
        "rmse_final = np.sqrt(float(hist['val_mse'].tail(1)))\n",
        "print('Final Root Mean Square Error on validation set: {}'.format(round(rmse_final, 3)))"
      ],
      "execution_count": 27,
      "outputs": [
        {
          "output_type": "stream",
          "text": [
            "\n",
            "....................................................................................................\n",
            "....................................................................................................\n",
            "....................................................................................................\n",
            "..........................................Final Root Mean Square Error on validation set: 2.422\n"
          ],
          "name": "stdout"
        }
      ]
    },
    {
      "cell_type": "markdown",
      "metadata": {
        "_uuid": "8bdef28ce210b9625a7d2e18f1a55e876d9f7f1e",
        "id": "1PzrtppDnhuP"
      },
      "source": [
        "Sekarang lakukan ploting untuk visualisasi loss function pada training dan validation dataset. Validation Dataset disini digunakan untuk mencegah \"overfitting\" dimana kita mendapatkan akurasi yang tinggi hanya pada training tetapi tidak pada validation. ([learn more about it here](https://www.tensorflow.org/tutorials/keras/overfit_and_underfit))"
      ]
    },
    {
      "cell_type": "code",
      "metadata": {
        "_uuid": "b253d7c2e0eb1d52c03e9140aabbd6fed5f933a3",
        "id": "8-3W8qBanhuR",
        "outputId": "83e9fc3d-05a2-4834-b287-e405b0e96d91",
        "colab": {
          "base_uri": "https://localhost:8080/",
          "height": 279
        }
      },
      "source": [
        "# plot Train Error dan Val Error menggunakan matplotlib plt\n",
        "def plot_history():\n",
        "    plt.figure()\n",
        "    plt.xlabel('Epoch')\n",
        "    plt.ylabel('Mean Squared Error')\n",
        "    plt.plot(hist['epoch'], hist['mse'], label='Train Error')\n",
        "    plt.plot(hist['epoch'], hist['val_mse'], label='Val Error')\n",
        "    plt.legend()\n",
        "plot_history()"
      ],
      "execution_count": 30,
      "outputs": [
        {
          "output_type": "display_data",
          "data": {
            "image/png": "[encoded data removed]",
            "text/plain": [
              "<Figure size 432x288 with 1 Axes>"
            ]
          },
          "metadata": {
            "tags": [],
            "needs_background": "light"
          }
        }
      ]
    },
    {
      "cell_type": "markdown",
      "metadata": {
        "_uuid": "253554e724ef5841072d5eb3897f81cc974b4b03",
        "id": "ceMFvo58nhuW"
      },
      "source": [
        "Selanjutnya lakukan komparasi bagaimana performa model pada test dataset"
      ]
    },
    {
      "cell_type": "code",
      "metadata": {
        "_uuid": "fa51d9cb533d0db4d343b9a6b90fcd98b3ce8174",
        "id": "wiK8D_PnnhuW",
        "outputId": "f55f5407-7cdf-4554-9640-25c7339ec2e5",
        "colab": {
          "base_uri": "https://localhost:8080/",
          "height": 52
        }
      },
      "source": [
        "# Lakukan Normalisasi pada test data untuk evaluasi\n",
        "data_test_norm = (feature_test - train_mean) / train_std\n",
        "\n",
        "mse, _, _ = model.evaluate(data_test_norm, label_test)\n",
        "\n",
        "rmse = np.sqrt(mse)\n",
        "\n",
        "print(rmse)"
      ],
      "execution_count": 32,
      "outputs": [
        {
          "output_type": "stream",
          "text": [
            "4/4 [==============================] - 0s 2ms/step - loss: 9.6442 - mae: 2.1882 - mse: 9.6442\n",
            "3.105516349379705\n"
          ],
          "name": "stdout"
        }
      ]
    },
    {
      "cell_type": "markdown",
      "metadata": {
        "id": "rijLjfq3nhua"
      },
      "source": [
        "Jika kita lihat di kaggle leaderboard, RMSE sekitar 3.18 berarti model kita sudah cukup baik dalam memprediksi, dan berada di posisi 5"
      ]
    },
    {
      "cell_type": "code",
      "metadata": {
        "id": "nBXjCG1unhub",
        "outputId": "fcea7325-cc11-4d50-ec5b-c77436540e10",
        "colab": {
          "base_uri": "https://localhost:8080/",
          "height": 132
        }
      },
      "source": [
        "# Lakukan percobaan dengan mengambil 2 sample dari train dataset yang sudah di normalisasikan (feature_train_norm[:2])\n",
        "percobaan = (feature_train_norm[:2])\n",
        "percobaan"
      ],
      "execution_count": 33,
      "outputs": [
        {
          "output_type": "execute_result",
          "data": {
            "text/html": [
              "<div>\n",
              "<style scoped>\n",
              "    .dataframe tbody tr th:only-of-type {\n",
              "        vertical-align: middle;\n",
              "    }\n",
              "\n",
              "    .dataframe tbody tr th {\n",
              "        vertical-align: top;\n",
              "    }\n",
              "\n",
              "    .dataframe thead th {\n",
              "        text-align: right;\n",
              "    }\n",
              "</style>\n",
              "<table border=\"1\" class=\"dataframe\">\n",
              "  <thead>\n",
              "    <tr style=\"text-align: right;\">\n",
              "      <th></th>\n",
              "      <th>CRIM</th>\n",
              "      <th>ZN</th>\n",
              "      <th>INDUS</th>\n",
              "      <th>CHAS</th>\n",
              "      <th>NX</th>\n",
              "      <th>RM</th>\n",
              "      <th>AGE</th>\n",
              "      <th>DIS</th>\n",
              "      <th>RAD</th>\n",
              "      <th>TAX</th>\n",
              "      <th>PTRATIO</th>\n",
              "      <th>B</th>\n",
              "      <th>LSTAT</th>\n",
              "    </tr>\n",
              "  </thead>\n",
              "  <tbody>\n",
              "    <tr>\n",
              "      <th>192</th>\n",
              "      <td>-0.427448</td>\n",
              "      <td>1.484011</td>\n",
              "      <td>-1.114239</td>\n",
              "      <td>-0.256833</td>\n",
              "      <td>-1.021915</td>\n",
              "      <td>1.273277</td>\n",
              "      <td>-1.517903</td>\n",
              "      <td>1.262452</td>\n",
              "      <td>-0.543255</td>\n",
              "      <td>-0.088856</td>\n",
              "      <td>-1.509687</td>\n",
              "      <td>0.365233</td>\n",
              "      <td>-1.374464</td>\n",
              "    </tr>\n",
              "    <tr>\n",
              "      <th>138</th>\n",
              "      <td>-0.408222</td>\n",
              "      <td>-0.479907</td>\n",
              "      <td>1.574679</td>\n",
              "      <td>-0.256833</td>\n",
              "      <td>0.569434</td>\n",
              "      <td>-0.583574</td>\n",
              "      <td>1.044346</td>\n",
              "      <td>-0.993784</td>\n",
              "      <td>-0.656796</td>\n",
              "      <td>0.140768</td>\n",
              "      <td>1.257406</td>\n",
              "      <td>0.382577</td>\n",
              "      <td>1.182332</td>\n",
              "    </tr>\n",
              "  </tbody>\n",
              "</table>\n",
              "</div>"
            ],
            "text/plain": [
              "         CRIM        ZN     INDUS  ...   PTRATIO         B     LSTAT\n",
              "192 -0.427448  1.484011 -1.114239  ... -1.509687  0.365233 -1.374464\n",
              "138 -0.408222 -0.479907  1.574679  ...  1.257406  0.382577  1.182332\n",
              "\n",
              "[2 rows x 13 columns]"
            ]
          },
          "metadata": {
            "tags": []
          },
          "execution_count": 33
        }
      ]
    },
    {
      "cell_type": "code",
      "metadata": {
        "id": "vcQlIvrVnhuh",
        "outputId": "fedc79f1-cf18-4f10-9dfc-7b89a3295a03",
        "colab": {
          "base_uri": "https://localhost:8080/",
          "height": 278
        }
      },
      "source": [
        "# Evaluasi nilai MEDV pada data pertama dengan index yang terlihat\n",
        "data.loc[192]\n"
      ],
      "execution_count": 34,
      "outputs": [
        {
          "output_type": "execute_result",
          "data": {
            "text/plain": [
              "CRIM         0.08664\n",
              "ZN          45.00000\n",
              "INDUS        3.44000\n",
              "CHAS         0.00000\n",
              "NX           0.43700\n",
              "RM           7.17800\n",
              "AGE         26.30000\n",
              "DIS          6.47980\n",
              "RAD          5.00000\n",
              "TAX        398.00000\n",
              "PTRATIO     15.20000\n",
              "B          390.49000\n",
              "LSTAT        2.87000\n",
              "MEDV        36.40000\n",
              "Name: 192, dtype: float64"
            ]
          },
          "metadata": {
            "tags": []
          },
          "execution_count": 34
        }
      ]
    },
    {
      "cell_type": "code",
      "metadata": {
        "id": "5aJBkIGMnhun",
        "outputId": "2ddaf644-6d4f-417a-e1b3-a8dff483daa0",
        "colab": {
          "base_uri": "https://localhost:8080/",
          "height": 278
        }
      },
      "source": [
        "# Evaluasi nilai MEDV pada data kedua dengan index yang terlihat\n",
        "data.loc[138]"
      ],
      "execution_count": 35,
      "outputs": [
        {
          "output_type": "execute_result",
          "data": {
            "text/plain": [
              "CRIM         0.2498\n",
              "ZN           0.0000\n",
              "INDUS       21.8900\n",
              "CHAS         0.0000\n",
              "NX           0.6240\n",
              "RM           5.8570\n",
              "AGE         98.2000\n",
              "DIS          1.6686\n",
              "RAD          4.0000\n",
              "TAX        437.0000\n",
              "PTRATIO     21.2000\n",
              "B          392.0400\n",
              "LSTAT       21.3200\n",
              "MEDV        13.3000\n",
              "Name: 138, dtype: float64"
            ]
          },
          "metadata": {
            "tags": []
          },
          "execution_count": 35
        }
      ]
    },
    {
      "cell_type": "code",
      "metadata": {
        "id": "KSFJrOGanhut",
        "outputId": "fcb4dbf3-2039-48b4-a7cc-ee0b9d28d613",
        "colab": {
          "base_uri": "https://localhost:8080/",
          "height": 52
        }
      },
      "source": [
        "# Lakukan prediksi terhadap sample data yang kita pilih dan bandingkan hasilnya dengan nilai MEDV yang tertera\n",
        "model.predict(percobaan)\n",
        "\n",
        "# gunakan model.predict() untuk melakukan prediksi"
      ],
      "execution_count": 36,
      "outputs": [
        {
          "output_type": "execute_result",
          "data": {
            "text/plain": [
              "array([[34.668137],\n",
              "       [14.351934]], dtype=float32)"
            ]
          },
          "metadata": {
            "tags": []
          },
          "execution_count": 36
        }
      ]
    },
    {
      "cell_type": "markdown",
      "metadata": {
        "_cell_guid": "79c7e3d0-c299-4dcb-8224-4455121ee9b0",
        "_uuid": "d629ff2d2480ee46fbb7e2d37f6b5fab8052498a",
        "id": "heC_f1R6nhux"
      },
      "source": [
        "## Credits (Reference)\n",
        "\n",
        "> - [Lex Fridman's MIT Deep Learning](https://github.com/lexfridman/mit-deep-learning)\n",
        "> - [Aymeric Damien](https://github.com/aymericdamien/)\n",
        "> - [GitHub Awesome Lists Topic](https://github.com/topics/awesome)\n",
        "> * [Tensorflow Tutorial and House Price Prediction](https://www.kaggle.com/arunkumarramanan/tensorflow-tutorial-and-examples)\n",
        "> - [Boston House Price Prediction](https://www.kaggle.com/shreayan98c/boston-house-price-prediction)"
      ]
    }
  ]
}